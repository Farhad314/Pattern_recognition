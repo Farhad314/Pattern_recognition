{
 "cells": [
  {
   "cell_type": "markdown",
   "metadata": {},
   "source": [
    "Eigen value and Eigen Vector without function"
   ]
  },
  {
   "cell_type": "code",
   "execution_count": 14,
   "metadata": {},
   "outputs": [
    {
     "name": "stdout",
     "output_type": "stream",
     "text": [
      "Eigenvalues: [6.0, 1.0000000000000002]\n",
      "Eigenvectors:\n",
      "[0.8944271909999159, 0.4472135954999579]\n",
      "[-0.447213595499958, 0.894427190999916]\n"
     ]
    }
   ],
   "source": [
    "import numpy as np\n",
    "\n",
    "def matrix_vector_multiplication(matrix, vector):\n",
    "    result = []\n",
    "    for row in matrix:\n",
    "        element = 0\n",
    "        for i in range(len(vector)):\n",
    "            element += row[i] * vector[i]\n",
    "        result.append(element)\n",
    "    return result\n",
    "\n",
    "def scalar_multiply(scalar, vector):\n",
    "    result = []\n",
    "    for element in vector:\n",
    "        result.append(scalar * element)\n",
    "    return result\n",
    "\n",
    "def subtract_vectors(vector1, vector2):\n",
    "    result = []\n",
    "    for i in range(len(vector1)):\n",
    "        result.append(vector1[i] - vector2[i])\n",
    "    return result\n",
    "\n",
    "def normalize_vector(vector):\n",
    "    magnitude = sum([element ** 2 for element in vector]) ** 0.5\n",
    "    return [element / magnitude for element in vector]\n",
    "\n",
    "def calculate_eigen(matrix):\n",
    "    eigenvalues = []\n",
    "    eigenvectors = []\n",
    "    max_iterations = 100\n",
    "\n",
    "    for _ in range(len(matrix)):\n",
    "        # Initialize eigenvector\n",
    "        eigenvector = [1 for _ in range(len(matrix))]\n",
    "\n",
    "        for _ in range(max_iterations):  # Iterations for convergence\n",
    "            # Perform matrix-vector multiplication\n",
    "            matrix_times_vector = matrix_vector_multiplication(matrix, eigenvector)\n",
    "\n",
    "            # Calculate the eigenvalue\n",
    "            eigenvalue = sum(matrix_times_vector[i] * eigenvector[i] for i in range(len(matrix)))\n",
    "\n",
    "            # Normalize the eigenvector\n",
    "            eigenvector = normalize_vector(matrix_times_vector)\n",
    "\n",
    "        # Add eigenvalue and eigenvector to the respective lists\n",
    "        eigenvalues.append(eigenvalue)\n",
    "        eigenvectors.append(eigenvector)\n",
    "\n",
    "        # Modify matrix to deflate the found eigenvalue\n",
    "        matrix -= np.outer(eigenvector, matrix_times_vector)\n",
    "\n",
    "    return eigenvalues, eigenvectors\n",
    "\n",
    "matrix = np.array([[5, 2], [2, 2]], dtype=np.float64)\n",
    "eigenvalues, eigenvectors = calculate_eigen(matrix)\n",
    "\n",
    "print(\"Eigenvalues:\", eigenvalues)\n",
    "print(\"Eigenvectors:\")\n",
    "for vector in eigenvectors:\n",
    "    print(vector)"
   ]
  },
  {
   "cell_type": "markdown",
   "metadata": {},
   "source": [
    "Eigenvalue and Eigenvector with function"
   ]
  },
  {
   "cell_type": "code",
   "execution_count": 10,
   "metadata": {},
   "outputs": [
    {
     "name": "stdout",
     "output_type": "stream",
     "text": [
      "E-value: [6. 1.]\n",
      "E-vector [[ 0.89442719 -0.4472136 ]\n",
      " [ 0.4472136   0.89442719]]\n"
     ]
    }
   ],
   "source": [
    "import numpy as np\n",
    "from numpy.linalg import eig\n",
    "#9,6,3,,6,4,2,,3,2,1,\n",
    "a = np.array([[5, 2], [2, 2]])\n",
    "w,v=eig(a)\n",
    "print('E-value:', w)\n",
    "print('E-vector', v)"
   ]
  }
 ],
 "metadata": {
  "kernelspec": {
   "display_name": "lab",
   "language": "python",
   "name": "python3"
  },
  "language_info": {
   "codemirror_mode": {
    "name": "ipython",
    "version": 3
   },
   "file_extension": ".py",
   "mimetype": "text/x-python",
   "name": "python",
   "nbconvert_exporter": "python",
   "pygments_lexer": "ipython3",
   "version": "3.10.5"
  },
  "orig_nbformat": 4
 },
 "nbformat": 4,
 "nbformat_minor": 2
}
