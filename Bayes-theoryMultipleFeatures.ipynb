{
 "cells": [
  {
   "cell_type": "code",
   "execution_count": 2,
   "id": "f53395bf",
   "metadata": {},
   "outputs": [
    {
     "name": "stdout",
     "output_type": "stream",
     "text": [
      "     Class  brightness  weight\n",
      "0   salmon           5       6\n",
      "1   salmon           6       6\n",
      "2  seabass           5       6\n",
      "3   salmon           6       5\n",
      "4  seabass           5       5\n"
     ]
    }
   ],
   "source": [
    "import pandas as pd\n",
    "table = pd.read_excel('bayes.xlsx')\n",
    "print(table)"
   ]
  },
  {
   "cell_type": "code",
   "execution_count": 6,
   "id": "89fe8566",
   "metadata": {},
   "outputs": [
    {
     "name": "stdout",
     "output_type": "stream",
     "text": [
      "Enter the class value (Salmon: S or Seabass B): S\n",
      "Enter the value of brightness: 5\n",
      "Enter the value of weight: 6\n",
      "Probability that a sample with brightness=5 and weight=6 came from Class=S: 0.50\n"
     ]
    }
   ],
   "source": [
    "def calculate_probability(table,classValue, x, y):\n",
    "    counts = table['Class'].value_counts()\n",
    "    total_samples = len(table)\n",
    "    class_a_samples = counts.get('salmon', 0)\n",
    "    class_b_samples = counts.get('seabass', 0)\n",
    "    evidence_count = len(table[(table['brightness'] == x) & (table['weight'] == y)])\n",
    "    class_a_evidence_count = len(table[(table['Class'] == 'salmon') & (table['brightness'] == x) & (table['weight'] == y)])\n",
    "    class_b_evidence_count = len(table[(table['Class'] == 'seabass') & (table['brightness'] == x) & (table['weight'] == y)])\n",
    "    p_a = class_a_samples / total_samples if total_samples != 0 else 0\n",
    "    p_b = class_b_samples / total_samples if total_samples != 0 else 0\n",
    "    p_x_y_given_a = class_a_evidence_count / class_a_samples if class_a_samples != 0 else 0\n",
    "    p_x_y_given_b = class_b_evidence_count / class_b_samples if class_b_samples != 0 else 0\n",
    "    if (p_x_y_given_a * p_a + p_x_y_given_b * p_b) != 0:\n",
    "        p_a_given_x_y = (p_x_y_given_a * p_a) / ((p_x_y_given_a * p_a) + (p_x_y_given_b * p_b))\n",
    "        p_b_given_x_y = (p_x_y_given_b * p_b) / ((p_x_y_given_a * p_a) + (p_x_y_given_b * p_b))\n",
    "    else:\n",
    "        p_a_given_x_y = 0\n",
    "        p_b_given_x_y = 0\n",
    "    if classValue == 's' :\n",
    "            return p_a_given_x_y\n",
    "    else:\n",
    "        return p_b_given_x_y\n",
    "class_value = input(\"Enter the class value (Salmon: S or Seabass B): \")\n",
    "x = int(input(\"Enter the value of brightness: \"))\n",
    "y = int(input(\"Enter the value of weight: \"))\n",
    "probability = calculate_probability(table,class_value, x, y)\n",
    "print(\"Probability that a sample with brightness={} and weight={} came from Class={}: {:.2f}\".format(x, y,class_value, probability))"
   ]
  }
 ],
 "metadata": {
  "kernelspec": {
   "display_name": "Python 3 (ipykernel)",
   "language": "python",
   "name": "python3"
  },
  "language_info": {
   "codemirror_mode": {
    "name": "ipython",
    "version": 3
   },
   "file_extension": ".py",
   "mimetype": "text/x-python",
   "name": "python",
   "nbconvert_exporter": "python",
   "pygments_lexer": "ipython3",
   "version": "3.10.9"
  }
 },
 "nbformat": 4,
 "nbformat_minor": 5
}
