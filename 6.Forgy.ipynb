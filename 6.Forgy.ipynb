{
 "cells": [
  {
   "cell_type": "code",
   "execution_count": 11,
   "id": "f7e82fbe",
   "metadata": {},
   "outputs": [
    {
     "name": "stdout",
     "output_type": "stream",
     "text": [
      "    x   y\n",
      "0   9   3\n",
      "1  15   6\n",
      "2  15  12\n",
      "3  21  12\n",
      "4  24  16\n",
      "5  30  20\n",
      "6  35  24\n"
     ]
    }
   ],
   "source": [
    "#importing librarires\n",
    "import numpy as np\n",
    "import pandas as pd\n",
    "import matplotlib.pyplot as plt\n",
    "from scipy.cluster.hierarchy import dendrogram, linkage\n",
    "#data read\n",
    "data = pd.read_excel('6.Forgy.xlsx')\n",
    "print(data)"
   ]
  },
  {
   "cell_type": "code",
   "execution_count": 12,
   "id": "ff783fd8",
   "metadata": {},
   "outputs": [
    {
     "data": {
      "image/png": "[encoded data removed]",
      "text/plain": [
       "<Figure size 640x480 with 1 Axes>"
      ]
     },
     "metadata": {},
     "output_type": "display_data"
    }
   ],
   "source": [
    "x = data.iloc[:, 0]\n",
    "y = data.iloc[:, 1]\n",
    "\n",
    "# Create a scatter plot\n",
    "plt.scatter(x, y)\n",
    "plt.xlabel('X-axis')\n",
    "plt.ylabel('Y-axis')\n",
    "plt.title('Scatter Plot of Excel Data')\n",
    "plt.show()"
   ]
  },
  {
   "cell_type": "code",
   "execution_count": 13,
   "id": "238b408b",
   "metadata": {},
   "outputs": [
    {
     "name": "stdout",
     "output_type": "stream",
     "text": [
      "X= [[9, 3], [15, 6], [15, 12], [21, 12], [24, 16], [30, 20], [35, 24]]\n"
     ]
    }
   ],
   "source": [
    "#Printind datapoints as a list\n",
    "x_values = data['x'].tolist()\n",
    "y_values = data['y'].tolist()\n",
    "X = [[x, y] for x, y in zip(x_values, y_values)]\n",
    "print('X=' ,X)"
   ]
  },
  {
   "cell_type": "code",
   "execution_count": 15,
   "id": "f63c647c",
   "metadata": {},
   "outputs": [
    {
     "name": "stdout",
     "output_type": "stream",
     "text": [
      "Iteration 1\n",
      "Current centroids:\n",
      "[9 3]\n",
      "[15  6]\n",
      "\n",
      "[array([9, 3])]\n",
      "[array([15,  6]), array([15, 12]), array([21, 12]), array([24, 16]), array([30, 20]), array([35, 24])]\n",
      "Iteration 2\n",
      "Current centroids:\n",
      "[9. 3.]\n",
      "[23.33333333 15.        ]\n",
      "\n",
      "[array([9, 3]), array([15,  6])]\n",
      "[array([15, 12]), array([21, 12]), array([24, 16]), array([30, 20]), array([35, 24])]\n",
      "Iteration 3\n",
      "Current centroids:\n",
      "[12.   4.5]\n",
      "[25.  16.8]\n",
      "\n",
      "[array([9, 3]), array([15,  6]), array([15, 12])]\n",
      "[array([21, 12]), array([24, 16]), array([30, 20]), array([35, 24])]\n",
      "Iteration 4\n",
      "Current centroids:\n",
      "[13.  7.]\n",
      "[27.5 18. ]\n",
      "\n",
      "[array([9, 3]), array([15,  6]), array([15, 12])]\n",
      "[array([21, 12]), array([24, 16]), array([30, 20]), array([35, 24])]\n",
      "Final centroids:\n",
      "[13.  7.]\n",
      "[27.5 18. ]\n",
      "Cluster 1:\n",
      "[9 3]\n",
      "[15  6]\n",
      "[15 12]\n",
      "\n",
      "Cluster 2:\n",
      "[21 12]\n",
      "[24 16]\n",
      "[30 20]\n",
      "[35 24]\n",
      "\n"
     ]
    }
   ],
   "source": [
    "# forgy clustering er main kajgulo ei module a.. implementation of forgy clustring from scratch\n",
    "def euclidean_distance(point1, point2):\n",
    "    return np.sqrt(np.sum((point1 - point2) ** 2))\n",
    "def forgy_clustering(data, k):\n",
    "    centroids = data[:k]\n",
    "    iteration = 0\n",
    "    while True:\n",
    "        iteration += 1\n",
    "        print(f\"Iteration {iteration}\")\n",
    "        print(\"Current centroids:\")\n",
    "        for centroid in centroids:\n",
    "            print(centroid)\n",
    "        print()   \n",
    "        clusters = [[] for _ in range(k)]  \n",
    "        for point in data:\n",
    "            distances = [euclidean_distance(point, centroid) for centroid in centroids]\n",
    "            cluster_index = np.argmin(distances)\n",
    "            clusters[cluster_index].append(point)\n",
    "            \n",
    "        for inner_list in clusters:\n",
    "                print(inner_list)    \n",
    "        #  Calculate new centroids\n",
    "        new_centroids = []\n",
    "        for cluster in clusters:\n",
    "            new_centroid = np.mean(cluster, axis=0)\n",
    "            new_centroids.append(new_centroid)\n",
    "        # Check if centroids have changed\n",
    "        if np.allclose(centroids, new_centroids):\n",
    "            break\n",
    "        centroids = new_centroids\n",
    "    print(\"Final centroids:\")\n",
    "    for centroid in centroids:\n",
    "        print(centroid)\n",
    "    return clusters\n",
    "data = np.array(X)\n",
    "k = int(input(\"Enter the number of cluster(k): \"))\n",
    "clusters = forgy_clustering(data, k)\n",
    "for i, cluster in enumerate(clusters):\n",
    "    print(f\"Cluster {i+1}:\")\n",
    "    for point in cluster:\n",
    "        print(point)\n",
    "    print()"
   ]
  },
  {
   "cell_type": "code",
   "execution_count": 16,
   "id": "5767a961",
   "metadata": {},
   "outputs": [
    {
     "data": {
      "image/png": "[encoded data removed]",
      "text/plain": [
       "<Figure size 640x480 with 1 Axes>"
      ]
     },
     "metadata": {},
     "output_type": "display_data"
    }
   ],
   "source": [
    "colors = ['red', 'blue', 'green', 'orange', 'purple', 'cyan']  \n",
    "for i, cluster in enumerate(clusters):\n",
    "    cluster_points = np.array(cluster)\n",
    "    plt.scatter(cluster_points[:, 0], cluster_points[:, 1], color=colors[i], label=f\"Cluster {i+1}\")\n",
    "\n",
    "#plt.grid(True)\n",
    "#plt.xlim(min(x) - 10, max(x) + 10)\n",
    "#plt.ylim(min(y) - 10, max(y) + 10)\n",
    "#plt.axhline(0, color='black', linewidth=0.5)\n",
    "#plt.axvline(0, color='black', linewidth=0.5)\n",
    "plt.xlabel('X')\n",
    "plt.ylabel('Y')\n",
    "plt.title('Forgy Clustering')\n",
    "plt.show()"
   ]
  }
 ],
 "metadata": {
  "kernelspec": {
   "display_name": "Python 3 (ipykernel)",
   "language": "python",
   "name": "python3"
  },
  "language_info": {
   "codemirror_mode": {
    "name": "ipython",
    "version": 3
   },
   "file_extension": ".py",
   "mimetype": "text/x-python",
   "name": "python",
   "nbconvert_exporter": "python",
   "pygments_lexer": "ipython3",
   "version": "3.10.5"
  }
 },
 "nbformat": 4,
 "nbformat_minor": 5
}
