{
 "cells": [
  {
   "cell_type": "code",
   "execution_count": 2,
   "id": "3d45fd0f",
   "metadata": {},
   "outputs": [
    {
     "name": "stdout",
     "output_type": "stream",
     "text": [
      "    x   y\n",
      "0   9   3\n",
      "1  15   6\n",
      "2  15  12\n",
      "3  21  12\n",
      "4  24  16\n",
      "5  30  20\n",
      "6  35  24\n",
      "X= [[9, 3], [15, 6], [15, 12], [21, 12], [24, 16], [30, 20], [35, 24]]\n"
     ]
    }
   ],
   "source": [
    "#importing librarires\n",
    "import numpy as np\n",
    "import pandas as pd\n",
    "import matplotlib.pyplot as plt\n",
    "from scipy.cluster.hierarchy import dendrogram, linkage\n",
    "from scipy.spatial.distance import cdist\n",
    "#data read\n",
    "dataset = pd.read_excel('8.Kmedoid.xlsx')\n",
    "print(dataset)\n",
    "#datapoint gulo ekta list a convert korsi ei part tuku te\n",
    "x_values = dataset['x'].tolist()\n",
    "y_values = dataset['y'].tolist()\n",
    "X = [[x, y] for x, y in zip(x_values, y_values)]\n",
    "print('X=' ,X)"
   ]
  },
  {
   "cell_type": "code",
   "execution_count": 8,
   "id": "dea275cf",
   "metadata": {},
   "outputs": [
    {
     "name": "stdout",
     "output_type": "stream",
     "text": [
      "Iteration 1 Cost: 75.36443804414289\n",
      "Iteration 2 Cost: 75.36443804414289\n",
      "\n",
      "Medoids:\n",
      "[[21 12]\n",
      " [15  6]]\n",
      "\n",
      "Cluster Assignments:\n",
      "[2 2 1 1 1 1 1]\n",
      "\n",
      "Cluster 1 Data Points:\n",
      "    x   y\n",
      "2  15  12\n",
      "3  21  12\n",
      "4  24  16\n",
      "5  30  20\n",
      "6  35  24\n",
      "\n",
      "Cluster 2 Data Points:\n",
      "    x  y\n",
      "0   9  3\n",
      "1  15  6\n"
     ]
    },
    {
     "data": {
      "image/png": "[encoded data removed]",
      "text/plain": [
       "<Figure size 800x600 with 1 Axes>"
      ]
     },
     "metadata": {},
     "output_type": "display_data"
    }
   ],
   "source": [
    "#main part of k-medoid algorithm\n",
    "def k_medoid(dataset, k, distance_metric='euclidean', max_iterations=100):\n",
    "    # Step 1: Select K random data points as medoids\n",
    "    medoids = dataset.sample(n=k).values  \n",
    "    for iteration in range(max_iterations):\n",
    "        # Step 2: Calculate the distance of each data point from the medoids\n",
    "        distances = cdist(dataset.values, medoids, metric=distance_metric)        \n",
    "        # Step 3: Assign data points to clusters based on the closest medoid\n",
    "        clusters = np.argmin(distances, axis=1) + 1  # Shift cluster names by 1\n",
    "        # Step 4: Calculate the cost (sum of distances) for each cluster\n",
    "        costs = np.zeros(k)\n",
    "        for i in range(k):\n",
    "            cluster_points = dataset.iloc[np.where(clusters == i + 1)]  # Shift cluster index by 1\n",
    "            medoid_distance = cdist(cluster_points.values, [medoids[i]], metric=distance_metric)\n",
    "            costs[i] = np.sum(medoid_distance) \n",
    "        # Print cost in each iteration\n",
    "        print(\"Iteration\", iteration+1, \"Cost:\", np.sum(costs))    \n",
    "        # Step 5: Select a random data point to swap with a medoid\n",
    "        random_index = np.random.randint(0, dataset.shape[0])\n",
    "        random_point = dataset.iloc[random_index].values   \n",
    "        for i in range(k):\n",
    "            # Step 6: Swap and calculate the cost with the temporary medoid\n",
    "            temp_medoids = medoids.copy()\n",
    "            temp_medoids[i] = random_point       \n",
    "            temp_distances = cdist(dataset.values, temp_medoids, metric=distance_metric)\n",
    "            temp_clusters = np.argmin(temp_distances, axis=1) + 1  # Shift cluster names by 1           \n",
    "            temp_costs = np.zeros(k)\n",
    "            for j in range(k):\n",
    "                cluster_points = dataset.iloc[np.where(temp_clusters == j + 1)]  # Shift cluster index by 1\n",
    "                medoid_distance = cdist(cluster_points.values, [temp_medoids[j]], metric=distance_metric)\n",
    "                temp_costs[j] = np.sum(medoid_distance)            \n",
    "            # Step 6: Check if the swap improves the cost\n",
    "            if np.sum(temp_costs) < np.sum(costs):\n",
    "                medoids = temp_medoids\n",
    "                clusters = temp_clusters\n",
    "                costs = temp_costs\n",
    "                break       \n",
    "        # Step 7: Check for convergence\n",
    "        if np.array_equal(clusters, temp_clusters):\n",
    "            break    \n",
    "    return medoids, clusters\n",
    "dataset = pd.read_excel('8.Kmedoid.xlsx')\n",
    "# Specify the number of clusters (k)\n",
    "k = 2\n",
    "# Apply k-medoid algorithm\n",
    "medoids, clusters = k_medoid(dataset, k)\n",
    "# Print the resulting medoids and cluster assignments\n",
    "print(\"\\nMedoids:\")\n",
    "print(medoids)\n",
    "print(\"\\nCluster Assignments:\")\n",
    "print(clusters)\n",
    "# Print all data points within each cluster\n",
    "for i in range(k):\n",
    "    cluster_points = dataset.iloc[np.where(clusters == i + 1)]  # Shift cluster index by 1\n",
    "    print(f\"\\nCluster {i + 1} Data Points:\")\n",
    "    print(cluster_points)\n",
    "# Scatter plot of the clusters\n",
    "plt.figure(figsize=(8, 6))\n",
    "plt.scatter(dataset.iloc[:, 0], dataset.iloc[:, 1], c=clusters)\n",
    "plt.scatter(medoids[:, 0], medoids[:, 1], c='red', marker='x', label='Medoids')\n",
    "plt.title('K-Medoid Clustering')\n",
    "#plt.xlim(min(x) - 10, max(x) + 10)\n",
    "#plt.ylim(min(y) - 10, max(y) + 10)\n",
    "plt.grid(True)\n",
    "plt.xlabel('X')\n",
    "plt.ylabel('Y')\n",
    "plt.legend()\n",
    "plt.show()"
   ]
  }
 ],
 "metadata": {
  "kernelspec": {
   "display_name": "Python 3 (ipykernel)",
   "language": "python",
   "name": "python3"
  },
  "language_info": {
   "codemirror_mode": {
    "name": "ipython",
    "version": 3
   },
   "file_extension": ".py",
   "mimetype": "text/x-python",
   "name": "python",
   "nbconvert_exporter": "python",
   "pygments_lexer": "ipython3",
   "version": "3.10.5"
  }
 },
 "nbformat": 4,
 "nbformat_minor": 5
}
