{
 "cells": [
  {
   "cell_type": "code",
   "execution_count": 6,
   "metadata": {},
   "outputs": [
    {
     "name": "stdout",
     "output_type": "stream",
     "text": [
      "Face Detected\n"
     ]
    }
   ],
   "source": [
    "import numpy as np\n",
    "import cv2\n",
    "\n",
    "def pca(images):\n",
    "    \"\"\"Performs PCA on a set of images.\n",
    "\n",
    "    Args:\n",
    "      images: A 2D numpy array of images.\n",
    "\n",
    "    Returns:\n",
    "      A 2D numpy array of principal components.\n",
    "    \"\"\"\n",
    "    mean = np.mean(images, axis=0)\n",
    "    centered = images - mean\n",
    "    covariance = np.cov(centered.T)\n",
    "    eigenvalues, eigenvectors = np.linalg.eig(covariance)\n",
    "    eigenvectors = eigenvectors.T\n",
    "    return eigenvectors\n",
    "\n",
    "def detect_face(image, eigenvectors, n_components):\n",
    "    \"\"\"Detects a face in an image using PCA.\n",
    "\n",
    "    Args:\n",
    "      image: A 2D numpy array of an image.\n",
    "      eigenvectors: A 2D numpy array of principal components.\n",
    "      n_components: The number of principal components to use.\n",
    "\n",
    "    Returns:\n",
    "      A boolean value indicating whether a face was detected.\n",
    "    \"\"\"\n",
    "    face_vector = image - np.mean(image)\n",
    "    face_projection = face_vector @ eigenvectors[:, :n_components]\n",
    "    return np.linalg.norm(face_projection) > 0.0\n",
    "\n",
    "if __name__ == \"__main__\":\n",
    "    image = cv2.imread(\"HappyFace1.jpg\")\n",
    "    gray_image = cv2.cvtColor(image, cv2.COLOR_BGR2GRAY)\n",
    "    eigenvectors = pca(gray_image)\n",
    "    face_detected = detect_face(gray_image, eigenvectors, 100)\n",
    "\n",
    "    if face_detected:\n",
    "        # Perform face detection and draw rectangle\n",
    "        print(\"Face Detected\")\n",
    "        face_cascade = cv2.CascadeClassifier(cv2.data.haarcascades + 'haarcascade_frontalface_default.xml')\n",
    "        faces = face_cascade.detectMultiScale(gray_image, scaleFactor=1.1, minNeighbors=5, minSize=(30, 30))\n",
    "\n",
    "        for (x, y, w, h) in faces:\n",
    "            cv2.rectangle(image, (x, y), (x+w, y+h), (0, 255, 0), 3)\n",
    "\n",
    "        cv2.imshow(\"Detected Faces\", image)\n",
    "        cv2.waitKey(0)\n",
    "    else:\n",
    "        print(\"No face detected\")\n"
   ]
  }
 ],
 "metadata": {
  "kernelspec": {
   "display_name": "lab",
   "language": "python",
   "name": "python3"
  },
  "language_info": {
   "codemirror_mode": {
    "name": "ipython",
    "version": 3
   },
   "file_extension": ".py",
   "mimetype": "text/x-python",
   "name": "python",
   "nbconvert_exporter": "python",
   "pygments_lexer": "ipython3",
   "version": "3.10.5"
  },
  "orig_nbformat": 4
 },
 "nbformat": 4,
 "nbformat_minor": 2
}
